{
 "cells": [
  {
   "cell_type": "code",
   "execution_count": 1,
   "id": "12e1c8d7",
   "metadata": {},
   "outputs": [],
   "source": [
    "import pandas as pd\n",
    "import numpy as np\n",
    "from sklearn.model_selection import TimeSeriesSplit\n",
    "from sklearn.metrics import mean_absolute_error, mean_squared_error, r2_score\n",
    "from sklearn.linear_model import LinearRegression\n",
    "from sklearn.tree import DecisionTreeRegressor\n",
    "from sklearn.ensemble import RandomForestRegressor\n",
    "from sklearn.preprocessing import StandardScaler\n",
    "from sklearn.pipeline import Pipeline"
   ]
  },
  {
   "cell_type": "code",
   "execution_count": null,
   "id": "9ae116c1",
   "metadata": {},
   "outputs": [
    {
     "name": "stdout",
     "output_type": "stream",
     "text": [
      "X shape: (50530, 4)\n",
      "y shape: (50530,)\n",
      "Features: ['Wind Speed (m/s)', 'Wind Direction (°)', 'Theoretical_Power_Curve (KWh)', 'time_diff']\n"
     ]
    }
   ],
   "source": [
    "# =======================\n",
    "# Load and prepare data\n",
    "# =======================\n",
    "df = pd.read_csv(\"dataset/T1.csv\", parse_dates=['Date/Time'])\n",
    "\n",
    "# Now convert to datetime with dayfirst=True (since your format is day month year)\n",
    "df['Date/Time'] = pd.to_datetime(df['Date/Time'], dayfirst=True)\n",
    "df = df.sort_values('Date/Time')\n",
    "\n",
    "# Calculate time_diff first\n",
    "df['time_diff'] = df['Date/Time'].diff().dt.total_seconds().div(60)\n",
    "df['time_diff'].fillna(0, inplace=True)  # Handle first row NaN\n",
    "\n",
    "# Example feature set (customize as needed)\n",
    "features = ['Wind Speed (m/s)', 'Wind Direction (°)', 'Theoretical_Power_Curve (KWh)', 'time_diff']\n",
    "target = 'LV ActivePower (kW)'\n",
    "\n",
    "X = df[features]\n",
    "y = df[target]\n",
    "\n",
    "print(f\"X shape: {X.shape}\")\n",
    "print(f\"y shape: {y.shape}\")\n",
    "print(f\"Features: {features}\")"
   ]
  },
  {
   "cell_type": "code",
   "execution_count": 8,
   "id": "3fb684f7",
   "metadata": {},
   "outputs": [],
   "source": [
    "# =======================\n",
    "# Define models\n",
    "# =======================\n",
    "models = {\n",
    "    \"Linear Regression\": LinearRegression(),\n",
    "    \"Decision Tree\": DecisionTreeRegressor(random_state=42, max_depth=5),\n",
    "    \"Random Forest\": RandomForestRegressor(random_state=42, n_estimators=100)\n",
    "}"
   ]
  },
  {
   "cell_type": "code",
   "execution_count": 9,
   "id": "6f733f3e",
   "metadata": {},
   "outputs": [],
   "source": [
    "# =======================\n",
    "# Cross-validation setup\n",
    "# =======================\n",
    "tscv = TimeSeriesSplit(n_splits=5)\n",
    "\n",
    "results = []\n",
    "\n",
    "for name, model in models.items():\n",
    "    mae_list, rmse_list, r2_list = [], [], []\n",
    "    \n",
    "    for train_idx, test_idx in tscv.split(X):\n",
    "        X_train, X_test = X.iloc[train_idx], X.iloc[test_idx]\n",
    "        y_train, y_test = y.iloc[train_idx], y.iloc[test_idx]\n",
    "        \n",
    "        # Build pipeline with scaling for linear models\n",
    "        pipeline = Pipeline([\n",
    "            ('scaler', StandardScaler()),\n",
    "            ('model', model)\n",
    "        ])\n",
    "        \n",
    "        pipeline.fit(X_train, y_train)\n",
    "        y_pred = pipeline.predict(X_test)\n",
    "        \n",
    "        mae = mean_absolute_error(y_test, y_pred)\n",
    "        rmse = np.sqrt(mean_squared_error(y_test, y_pred))\n",
    "        r2 = r2_score(y_test, y_pred)\n",
    "        \n",
    "        mae_list.append(mae)\n",
    "        rmse_list.append(rmse)\n",
    "        r2_list.append(r2)\n",
    "    \n",
    "    results.append({\n",
    "        \"Model\": name,\n",
    "        \"MAE\": np.mean(mae_list),\n",
    "        \"RMSE\": np.mean(rmse_list),\n",
    "        \"R²\": np.mean(r2_list)\n",
    "    })"
   ]
  },
  {
   "cell_type": "code",
   "execution_count": 10,
   "id": "b4b06f04",
   "metadata": {},
   "outputs": [
    {
     "name": "stdout",
     "output_type": "stream",
     "text": [
      "               Model         MAE        RMSE        R²\n",
      "0  Linear Regression  210.769411  317.006411  0.934226\n",
      "1      Decision Tree  191.397264  408.963192  0.889846\n",
      "2      Random Forest  201.225842  449.743006  0.867407\n"
     ]
    }
   ],
   "source": [
    "# =======================\n",
    "# Results summary\n",
    "# =======================\n",
    "results_df = pd.DataFrame(results)\n",
    "print(results_df.sort_values(\"RMSE\"))"
   ]
  }
 ],
 "metadata": {
  "kernelspec": {
   "display_name": "Python 3",
   "language": "python",
   "name": "python3"
  },
  "language_info": {
   "codemirror_mode": {
    "name": "ipython",
    "version": 3
   },
   "file_extension": ".py",
   "mimetype": "text/x-python",
   "name": "python",
   "nbconvert_exporter": "python",
   "pygments_lexer": "ipython3",
   "version": "3.11.5"
  }
 },
 "nbformat": 4,
 "nbformat_minor": 5
}
